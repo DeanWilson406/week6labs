{
 "cells": [
  {
   "cell_type": "markdown",
   "id": "3faab44a-bdb1-45ea-88d5-d4fb33585f43",
   "metadata": {},
   "source": [
    "## Week 6 Instructor Led Lab: Magic Crystal Ball🔮  \n",
    "By: Dean Wilson  \n",
    "Course: BGEN 632: Graduate Introduction to Python  \n",
    "Date: 20250407  "
   ]
  },
  {
   "cell_type": "markdown",
   "id": "12f8e4c3-119e-4d7d-89f5-6fb72edaff2b",
   "metadata": {},
   "source": [
    "## Import Modules\n"
   ]
  },
  {
   "cell_type": "code",
   "execution_count": 1,
   "id": "bd4d7612-14fe-4bdb-8798-1bfd3d8fb453",
   "metadata": {},
   "outputs": [],
   "source": [
    "import random as rand"
   ]
  },
  {
   "cell_type": "markdown",
   "id": "6b54c441-63e5-4d99-895a-a6aa00a633ab",
   "metadata": {},
   "source": [
    "## Create Variables"
   ]
  },
  {
   "cell_type": "code",
   "execution_count": 2,
   "id": "c0941ed5-11cc-4f73-9b8a-9df3d7cac9ff",
   "metadata": {},
   "outputs": [],
   "source": [
    "fortune_responses = [\"It is certain\",\n",
    "                     \"It is decidely so\",\n",
    "                     \"That question requires greater monetary compensation\",\n",
    "                     \"Reply is hazy; try again, with more money\",\n",
    "                     \"Concentrate and ask again\",\n",
    "                     \"My reply is no\",\n",
    "                     \"Outlook is not so good\",\n",
    "                     \"Very doubtful\",\n",
    "                     \"You already know the answer\",\n",
    "                     \"The great internet spirits laugh at your question\",\n",
    "                     \"Inflation has risen, please insert more money\"\n",
    "                    ]\n",
    "\n",
    "\n",
    "questions = [] # the questions asked by customer\n",
    "responses = [] # the responses provided to the customer"
   ]
  },
  {
   "cell_type": "markdown",
   "id": "55643e81-7bb5-42d6-be2e-1064e880889e",
   "metadata": {},
   "source": [
    "## Magic Crystal Ball 🔮"
   ]
  },
  {
   "cell_type": "code",
   "execution_count": 3,
   "id": "c6afbe4e-8b15-4111-8a0b-97cdc658cac0",
   "metadata": {},
   "outputs": [
    {
     "name": "stdout",
     "output_type": "stream",
     "text": [
      "Welcome to the All Knowing Computer!!! \n",
      "\n",
      "1. Please ask a question\n",
      "\n",
      "2. Review questions and responses\n",
      "\n",
      "3. Complete services and pay\n",
      "\n"
     ]
    },
    {
     "name": "stdin",
     "output_type": "stream",
     "text": [
      "Choose an option (1-3):  1\n",
      "Ask what do you seek to know? Will my code work this time\n"
     ]
    },
    {
     "name": "stdout",
     "output_type": "stream",
     "text": [
      "The All Knowing Computer says: That question requires greater monetary compensation \n",
      "\n",
      "1. Please ask another question\n",
      "\n",
      "2. Review questions and responses\n",
      "\n",
      "3. Complete services and pay\n",
      "\n"
     ]
    },
    {
     "name": "stdin",
     "output_type": "stream",
     "text": [
      "Choose an option (1-3):  1\n",
      "Ask what do you seek to know? Will my beloved Broncos win the Super Bowl this year\n"
     ]
    },
    {
     "name": "stdout",
     "output_type": "stream",
     "text": [
      "The All Knowing Computer says: It is certain \n",
      "\n",
      "1. Please ask another question\n",
      "\n",
      "2. Review questions and responses\n",
      "\n",
      "3. Complete services and pay\n",
      "\n"
     ]
    },
    {
     "name": "stdin",
     "output_type": "stream",
     "text": [
      "Choose an option (1-3):  1\n",
      "Ask what do you seek to know? Will I finish all my homework on time today\n"
     ]
    },
    {
     "name": "stdout",
     "output_type": "stream",
     "text": [
      "The All Knowing Computer says: It is decidely so \n",
      "\n",
      "1. Please ask another question\n",
      "\n",
      "2. Review questions and responses\n",
      "\n",
      "3. Complete services and pay\n",
      "\n"
     ]
    },
    {
     "name": "stdin",
     "output_type": "stream",
     "text": [
      "Choose an option (1-3):  1\n",
      "Ask what do you seek to know? Is winter finally over\n"
     ]
    },
    {
     "name": "stdout",
     "output_type": "stream",
     "text": [
      "The All Knowing Computer says: It is certain \n",
      "\n",
      "1. Please ask another question\n",
      "\n",
      "2. Review questions and responses\n",
      "\n",
      "3. Complete services and pay\n",
      "\n"
     ]
    },
    {
     "name": "stdin",
     "output_type": "stream",
     "text": [
      "Choose an option (1-3):  2\n"
     ]
    },
    {
     "name": "stdout",
     "output_type": "stream",
     "text": [
      "You asked Will my code work this time\n",
      " The All knowing Computer Said: That question requires greater monetary compensation\n",
      "\n",
      "You asked Will my beloved Broncos win the Super Bowl this year\n",
      " The All knowing Computer Said: It is certain\n",
      "\n",
      "You asked Will I finish all my homework on time today\n",
      " The All knowing Computer Said: It is decidely so\n",
      "\n",
      "You asked Is winter finally over\n",
      " The All knowing Computer Said: It is certain\n",
      "\n",
      "1. Please ask another question\n",
      "\n",
      "2. Review questions and responses\n",
      "\n",
      "3. Complete services and pay\n",
      "\n"
     ]
    },
    {
     "name": "stdin",
     "output_type": "stream",
     "text": [
      "Choose an option (1-3):  3\n"
     ]
    },
    {
     "name": "stdout",
     "output_type": "stream",
     "text": [
      "Thank you for using the The All Knowing Computer!!\n",
      "You asked 4 questions and you owe $120.00 for today's servivces\n"
     ]
    }
   ],
   "source": [
    "question_asked = False # keep track of whether a question has been asked\n",
    "service_cost = 0.00 # keep track of service cost\n",
    "\n",
    "print(\"Welcome to the All Knowing Computer!!!\", \"\\n\")\n",
    "\n",
    "while True: # Starting a Nested Loop \n",
    "    end_service = False # Allow loop to begin by setting end service to FALSE\n",
    "\n",
    "    if question_asked:\n",
    "        prompt_text = \"another\" # asks another when a question has already been asked\n",
    "    else: \n",
    "        prompt_text = \"a\" # ask \"a\" question for when it is user's first question\n",
    "    \n",
    "    try: \n",
    "        print(f\"1. Please ask {prompt_text} question\" \"\\n\") # 1st prompt requesting user to ask question and dynamically changes\n",
    "        print(\"2. Review questions and responses\" \"\\n\") # 2nd prompt for user to review questions/answers\n",
    "        print(\"3. Complete services and pay\" \"\\n\") # 3rd prompt for user to finish request and pay\n",
    "\n",
    "        choice = input(\"Choose an option (1-3): \") # Prompt user to input 1-3\n",
    "        \n",
    "        if choice == \"1\":\n",
    "            question = input(\"Ask what do you seek to know?\") # User inputs question\n",
    "            answer = rand.choice(fortune_responses) # Random answer provided to user's question\n",
    "            questions.append(question) # Question is appended to list\n",
    "            responses.append(answer) # Answer is appended to list\n",
    "            question_asked = True # Allow prompt to change from a to another\n",
    "            print(\"The All Knowing Computer says:\", answer, \"\\n\")\n",
    "            service_cost += 30.00 # Add 30.00 to service_cost\n",
    "        \n",
    "        elif choice == \"2\":\n",
    "            if not questions:\n",
    "                print (\"You have not asked a question yet, try again\")\n",
    "                continue # Restart loop\n",
    "            else:\n",
    "                k = 0\n",
    "                while k < len(questions): # Create loop to iterate over list\n",
    "                    print(\"You asked\", questions[k]) # print all questions\n",
    "                    print(\" The All knowing Computer Said:\", responses[k]) # print all answers\n",
    "                    print()\n",
    "                    k += 1 # Prints each question with correlating answer\n",
    "        \n",
    "        elif choice == \"3\":\n",
    "            end_service = True # Close Loop\n",
    "\n",
    "        else: \n",
    "            print(\"Invalid input. Please select 1, 2, or 3\") # If user puts number outside of 1-3, restarts loop\n",
    "            continue # Restart loop\n",
    "\n",
    "        if end_service:\n",
    "            print(\"Thank you for using the The All Knowing Computer!!\")\n",
    "            print(f\"You asked {len(questions)} questions and you owe ${service_cost:.2f} for today's servivces\") # Give total amount owed to the second decimal place\n",
    "            break\n",
    "    except ValueError:\n",
    "        print(\"That is not an option. Please try again.\") # Bug fix for any input that is not a number\n",
    "        "
   ]
  },
  {
   "cell_type": "markdown",
   "id": "5d2e9c92-70ca-4b50-9732-fb2039460130",
   "metadata": {},
   "source": [
    "## References\n"
   ]
  },
  {
   "cell_type": "markdown",
   "id": "0b0a4d68-275a-42d3-a255-b43dca288a52",
   "metadata": {},
   "source": [
    "* OpenAI. (2025, April 7). Conversation with ChatGPT about launching JupyterLab from command prompt [Large language model]. ChatGPT. https://chatgpt.com/share/67f45de4-46ac-8001-9e30-95f1bdabc9c0 # Assisted with my understanding and learning of this week's objectives\n",
    "* Wilson, D. (n.d.). 03_Independent_Lab_Dean_Wilson.ipynb [Jupyter notebook]. GitHub. https://github.com/DeanWilson406/week3labs/blob/main/03_Independent_Lab_Dean_Wilson.ipynb # Homework from week 3 was similar to this week, so I used it as a guide to build the loop"
   ]
  }
 ],
 "metadata": {
  "kernelspec": {
   "display_name": "Python 3 (ipykernel)",
   "language": "python",
   "name": "python3"
  },
  "language_info": {
   "codemirror_mode": {
    "name": "ipython",
    "version": 3
   },
   "file_extension": ".py",
   "mimetype": "text/x-python",
   "name": "python",
   "nbconvert_exporter": "python",
   "pygments_lexer": "ipython3",
   "version": "3.13.2"
  }
 },
 "nbformat": 4,
 "nbformat_minor": 5
}
