{
 "cells": [
  {
   "cell_type": "markdown",
   "id": "52ecd8d3-bbfe-4534-9634-31170b8c7d20",
   "metadata": {},
   "source": [
    "## Week 6 Independent Lab: Collections \n",
    "By: Dean Wilson  \n",
    "Course: BGEN 632: Graduate Introduction to Python  \n",
    "Date: 20250407  "
   ]
  },
  {
   "cell_type": "code",
   "execution_count": 1,
   "id": "721077e2-fd5f-49fd-87fd-64229580c12c",
   "metadata": {},
   "outputs": [],
   "source": [
    "# Creating Dictionary of Students with their academic information\n",
    "students = [\n",
    "    {\n",
    "        \"first_name\": \"Carmen\",\n",
    "        \"last_name\": \"Berzatto\",\n",
    "        \"major\": \"Cinema\",\n",
    "        \"gpa\": 3.5,\n",
    "        \"violations\": None\n",
    "    },\n",
    "    {\n",
    "        \"first_name\": \"Sydney\",\n",
    "        \"last_name\" : \"Adamu\",\n",
    "        \"major\": \"Sociology\",\n",
    "        \"gpa\": 3.0,\n",
    "        \"violations\": None\n",
    "    }, \n",
    "    {\n",
    "        \"first_name\": \"Neil\",\n",
    "        \"last_name\": \"Fak\",\n",
    "        \"major\": \"Business Administration\",\n",
    "        \"gpa\": 2.8,\n",
    "        \"violations\": None\n",
    "    },\n",
    "    {\n",
    "        \"first_name\": \"Marcus\",\n",
    "        \"last_name\": \"Brooks\",\n",
    "        \"major\": \"Geology\",\n",
    "        \"gpa\": 4.0,\n",
    "        \"violations\": None\n",
    "    }\n",
    "]"
   ]
  },
  {
   "cell_type": "code",
   "execution_count": 2,
   "id": "69e0e0a7-e271-4a85-9b26-be02ed544731",
   "metadata": {},
   "outputs": [],
   "source": [
    "# Create Dictionary of Academic Violations\n",
    "violation_types = [\n",
    "    \"Copying Homework\",\n",
    "    \"Not Citing Sources\",\n",
    "    \"Cheating on Exam\",\n",
    "    \"Writing Essay for another Student\",\n",
    "    \"Stealing Answers from Professor\",\n",
    "    \"Passing Exam questions to other Students\",\n",
    "    \"Cheating on Quiz\",\n",
    "    \"Degeneracy\"\n",
    "]"
   ]
  },
  {
   "cell_type": "code",
   "execution_count": 3,
   "id": "704ab728-6bb4-476b-8ff8-93f4fb8c8c6e",
   "metadata": {},
   "outputs": [],
   "source": [
    "# Defining Student Information Query\n",
    "def student_info_query ():\n",
    "    print(\"Student Information Query\")\n",
    "    print() # spacing\n",
    "    s = 0 # Setting Initalizer to 0\n",
    "    for student in students:\n",
    "        print(f\"{s} {student['first_name']} {student['last_name']} | Major: {student['major']} | GPA: {student['gpa']} | Violations: {student['violations']}\") # Display student information\n",
    "        s += 1 # Iterator to show successful completion of each loop\n",
    "        print() # Spacing"
   ]
  },
  {
   "cell_type": "code",
   "execution_count": 4,
   "id": "2a617911-a0ef-454a-a51a-1bb0acbdb2a4",
   "metadata": {},
   "outputs": [],
   "source": [
    "# Defining Student Information Entry\n",
    "def add_student():\n",
    "    print(\"Welcome to the Student Information Entry\" \"\\n\")\n",
    "    print(\"Add New Student\")\n",
    "    first = input(\"Enter the student's first name: \") # input first name \n",
    "    last = input(\"Enter the student's last name: \") # Input last name\n",
    "    major = input(\"Enter the student's major: \") # Input student's major\n",
    "    gpa = float(input(\"Enter the student's GPA: \")) # Utilized float to prevent errors for GPA Metrics\n",
    "    violations = None # students all start with no violations\n",
    "    new_student = {\n",
    "    \"first_name\": first,\n",
    "    \"last_name\": last,\n",
    "    \"major\": major,\n",
    "    \"gpa\": gpa,\n",
    "    \"violations\": None\n",
    "    } # create new student from inputs\n",
    "    students.append(new_student) # new student will be appended to students\n",
    "    print(f\"Student added: {first} {last} | Major: {major} | GPA: {gpa}\")\n",
    "    print() # Blank Line for Spacing"
   ]
  },
  {
   "cell_type": "code",
   "execution_count": 5,
   "id": "00748352-64fb-43cd-97d1-ec2dd1157a10",
   "metadata": {},
   "outputs": [],
   "source": [
    "# Defining Query GPA Metrics\n",
    "def  gpa_metrics():\n",
    "    gpa_list = [] # Create bucket to get total gpa\n",
    "    for student in students:\n",
    "        gpa = float(student[\"gpa\"]) # Utilized float to prevent errors\n",
    "        gpa_list.append(gpa) # gpa's will be appended to gpa_list when added\n",
    "    max_gpa = max(gpa_list) # Give max GPA\n",
    "    min_gpa = min(gpa_list) # Give min GPA\n",
    "    avg_gpa = sum(gpa_list) / len(gpa_list) # Give Avg of GPA\n",
    "    print(f\"Maximum GPA: {max_gpa}\")\n",
    "    print(f\"Minimum GPA: {min_gpa}\")\n",
    "    print(f\"Average GPA: {avg_gpa}\")\n",
    "    print() # Blank line for spacing"
   ]
  },
  {
   "cell_type": "code",
   "execution_count": 6,
   "id": "c1eb25b7-fe04-413d-8de0-f7467ae2aa45",
   "metadata": {},
   "outputs": [],
   "source": [
    "# Defining Academic Violators\n",
    "def academic_violations ():\n",
    "    print(\"Academic Violations\")\n",
    "    s = 0 # Setting Initalizer to 0\n",
    "    while s < len(students):\n",
    "        print(s, \"-\", students[s] [\"first_name\"], students[s] [\"last_name\"])\n",
    "        s += 1 # Iterator to show successful completion of each loop\n",
    "    print(\"Select Student\" \"\\n\")\n",
    "    violator = int(input(\"Please enter student by number: \")) # Prompt user to input student numerical value\n",
    "    v = 0 # Setting Initalizer to 0\n",
    "    while v < len(violation_types):\n",
    "        print(v, \"-\", violation_types[v])\n",
    "        v += 1 # Iterator to show successful completion of each loop\n",
    "        print() # spacing\n",
    "    violation = int(input(\"Please enter academic violation by number: \")) # Prompt user to input academic violation numerical value\n",
    "    students[violator][\"violations\"] = violation_types[violation] # Assigning selected violation to selected student's violation field"
   ]
  },
  {
   "cell_type": "markdown",
   "id": "e2717c31-ea26-41ad-b252-a4b22fafae84",
   "metadata": {},
   "source": [
    "## University of Montana Student Management System ⛰️"
   ]
  },
  {
   "cell_type": "code",
   "execution_count": 7,
   "id": "fd890eca-850b-4d97-8d6b-757a018d8efe",
   "metadata": {},
   "outputs": [
    {
     "name": "stdout",
     "output_type": "stream",
     "text": [
      "Welcome to the Student Management System\n",
      "\n",
      "1. Student Information Query\n",
      "\n",
      "2. Student Information Entry\n",
      "\n",
      "3. Query GPA Metrics\n",
      "\n",
      "4. Academic Violations\n",
      "\n",
      "5. Quit Program\n",
      "\n",
      "\n"
     ]
    },
    {
     "name": "stdin",
     "output_type": "stream",
     "text": [
      "Select an option:  3\n"
     ]
    },
    {
     "name": "stdout",
     "output_type": "stream",
     "text": [
      "Maximum GPA: 4.0\n",
      "Minimum GPA: 2.8\n",
      "Average GPA: 3.325\n",
      "\n",
      "1. Student Information Query\n",
      "\n",
      "2. Student Information Entry\n",
      "\n",
      "3. Query GPA Metrics\n",
      "\n",
      "4. Academic Violations\n",
      "\n",
      "5. Quit Program\n",
      "\n",
      "\n"
     ]
    },
    {
     "name": "stdin",
     "output_type": "stream",
     "text": [
      "Select an option:  2\n"
     ]
    },
    {
     "name": "stdout",
     "output_type": "stream",
     "text": [
      "Welcome to the Student Information Entry\n",
      "\n",
      "Add New Student\n"
     ]
    },
    {
     "name": "stdin",
     "output_type": "stream",
     "text": [
      "Enter the student's first name:  Dean\n",
      "Enter the student's last name:  Wilson\n",
      "Enter the student's major:  Criminology\n",
      "Enter the student's GPA:  3.9\n"
     ]
    },
    {
     "name": "stdout",
     "output_type": "stream",
     "text": [
      "Student added: Dean Wilson | Major: Criminology | GPA: 3.9\n",
      "\n",
      "1. Student Information Query\n",
      "\n",
      "2. Student Information Entry\n",
      "\n",
      "3. Query GPA Metrics\n",
      "\n",
      "4. Academic Violations\n",
      "\n",
      "5. Quit Program\n",
      "\n",
      "\n"
     ]
    },
    {
     "name": "stdin",
     "output_type": "stream",
     "text": [
      "Select an option:  2\n"
     ]
    },
    {
     "name": "stdout",
     "output_type": "stream",
     "text": [
      "Welcome to the Student Information Entry\n",
      "\n",
      "Add New Student\n"
     ]
    },
    {
     "name": "stdin",
     "output_type": "stream",
     "text": [
      "Enter the student's first name:  Jim\n",
      "Enter the student's last name:  Mattis\n",
      "Enter the student's major:  Military History\n",
      "Enter the student's GPA:  4.0\n"
     ]
    },
    {
     "name": "stdout",
     "output_type": "stream",
     "text": [
      "Student added: Jim Mattis | Major: Military History | GPA: 4.0\n",
      "\n",
      "1. Student Information Query\n",
      "\n",
      "2. Student Information Entry\n",
      "\n",
      "3. Query GPA Metrics\n",
      "\n",
      "4. Academic Violations\n",
      "\n",
      "5. Quit Program\n",
      "\n",
      "\n"
     ]
    },
    {
     "name": "stdin",
     "output_type": "stream",
     "text": [
      "Select an option:  3\n"
     ]
    },
    {
     "name": "stdout",
     "output_type": "stream",
     "text": [
      "Maximum GPA: 4.0\n",
      "Minimum GPA: 2.8\n",
      "Average GPA: 3.533333333333333\n",
      "\n",
      "1. Student Information Query\n",
      "\n",
      "2. Student Information Entry\n",
      "\n",
      "3. Query GPA Metrics\n",
      "\n",
      "4. Academic Violations\n",
      "\n",
      "5. Quit Program\n",
      "\n",
      "\n"
     ]
    },
    {
     "name": "stdin",
     "output_type": "stream",
     "text": [
      "Select an option:  4\n"
     ]
    },
    {
     "name": "stdout",
     "output_type": "stream",
     "text": [
      "Academic Violations\n",
      "0 - Carmen Berzatto\n",
      "1 - Sydney Adamu\n",
      "2 - Neil Fak\n",
      "3 - Marcus Brooks\n",
      "4 - Dean Wilson\n",
      "5 - Jim Mattis\n",
      "Select Student\n",
      "\n"
     ]
    },
    {
     "name": "stdin",
     "output_type": "stream",
     "text": [
      "Please enter student by number:  5\n"
     ]
    },
    {
     "name": "stdout",
     "output_type": "stream",
     "text": [
      "0 - Copying Homework\n",
      "\n",
      "1 - Not Citing Sources\n",
      "\n",
      "2 - Cheating on Exam\n",
      "\n",
      "3 - Writing Essay for another Student\n",
      "\n",
      "4 - Stealing Answers from Professor\n",
      "\n",
      "5 - Passing Exam questions to other Students\n",
      "\n",
      "6 - Cheating on Quiz\n",
      "\n",
      "7 - Degeneracy\n",
      "\n"
     ]
    },
    {
     "name": "stdin",
     "output_type": "stream",
     "text": [
      "Please enter academic violation by number:  3\n"
     ]
    },
    {
     "name": "stdout",
     "output_type": "stream",
     "text": [
      "1. Student Information Query\n",
      "\n",
      "2. Student Information Entry\n",
      "\n",
      "3. Query GPA Metrics\n",
      "\n",
      "4. Academic Violations\n",
      "\n",
      "5. Quit Program\n",
      "\n",
      "\n"
     ]
    },
    {
     "name": "stdin",
     "output_type": "stream",
     "text": [
      "Select an option:  4\n"
     ]
    },
    {
     "name": "stdout",
     "output_type": "stream",
     "text": [
      "Academic Violations\n",
      "0 - Carmen Berzatto\n",
      "1 - Sydney Adamu\n",
      "2 - Neil Fak\n",
      "3 - Marcus Brooks\n",
      "4 - Dean Wilson\n",
      "5 - Jim Mattis\n",
      "Select Student\n",
      "\n"
     ]
    },
    {
     "name": "stdin",
     "output_type": "stream",
     "text": [
      "Please enter student by number:  0\n"
     ]
    },
    {
     "name": "stdout",
     "output_type": "stream",
     "text": [
      "0 - Copying Homework\n",
      "\n",
      "1 - Not Citing Sources\n",
      "\n",
      "2 - Cheating on Exam\n",
      "\n",
      "3 - Writing Essay for another Student\n",
      "\n",
      "4 - Stealing Answers from Professor\n",
      "\n",
      "5 - Passing Exam questions to other Students\n",
      "\n",
      "6 - Cheating on Quiz\n",
      "\n",
      "7 - Degeneracy\n",
      "\n"
     ]
    },
    {
     "name": "stdin",
     "output_type": "stream",
     "text": [
      "Please enter academic violation by number:  6\n"
     ]
    },
    {
     "name": "stdout",
     "output_type": "stream",
     "text": [
      "1. Student Information Query\n",
      "\n",
      "2. Student Information Entry\n",
      "\n",
      "3. Query GPA Metrics\n",
      "\n",
      "4. Academic Violations\n",
      "\n",
      "5. Quit Program\n",
      "\n",
      "\n"
     ]
    },
    {
     "name": "stdin",
     "output_type": "stream",
     "text": [
      "Select an option:  1\n"
     ]
    },
    {
     "name": "stdout",
     "output_type": "stream",
     "text": [
      "Student Information Query\n",
      "\n",
      "0 Carmen Berzatto | Major: Cinema | GPA: 3.5 | Violations: Cheating on Quiz\n",
      "\n",
      "1 Sydney Adamu | Major: Sociology | GPA: 3.0 | Violations: None\n",
      "\n",
      "2 Neil Fak | Major: Business Administration | GPA: 2.8 | Violations: None\n",
      "\n",
      "3 Marcus Brooks | Major: Geology | GPA: 4.0 | Violations: None\n",
      "\n",
      "4 Dean Wilson | Major: Criminology | GPA: 3.9 | Violations: None\n",
      "\n",
      "5 Jim Mattis | Major: Military History | GPA: 4.0 | Violations: Writing Essay for another Student\n",
      "\n",
      "1. Student Information Query\n",
      "\n",
      "2. Student Information Entry\n",
      "\n",
      "3. Query GPA Metrics\n",
      "\n",
      "4. Academic Violations\n",
      "\n",
      "5. Quit Program\n",
      "\n",
      "\n"
     ]
    },
    {
     "name": "stdin",
     "output_type": "stream",
     "text": [
      "Select an option:  5\n"
     ]
    },
    {
     "name": "stdout",
     "output_type": "stream",
     "text": [
      "Thank you for using the The University of Montana Student Management System\n"
     ]
    }
   ],
   "source": [
    "print(\"Welcome to the Student Management System\" \"\\n\")\n",
    "while True: # Starting a Nested Loop \n",
    "    try: \n",
    "        print(\"1. Student Information Query\" \"\\n\")\n",
    "        print(\"2. Student Information Entry\" \"\\n\")\n",
    "        print(\"3. Query GPA Metrics\" \"\\n\")\n",
    "        print(\"4. Academic Violations\" \"\\n\")\n",
    "        print(\"5. Quit Program\" \"\\n\")\n",
    "        print() # Blank Line for spacing\n",
    "        choice = input(\"Select an option: \") # Ask user input for what service they want\n",
    "        \n",
    "        if choice == \"1\":\n",
    "            student_info_query() # Take User to Defining Students\n",
    "        elif choice == \"2\":\n",
    "            add_student() # Take User to Add New Students\n",
    "        elif choice == \"3\":\n",
    "            gpa_metrics() # Take User to look at GPA information\n",
    "        elif choice == \"4\":\n",
    "            academic_violations() # Take User to add academic violations to students\n",
    "        elif choice == \"5\":\n",
    "            print(\"Thank you for using the The University of Montana Student Management System\")\n",
    "            break # End Service\n",
    "        else:\n",
    "            print(\"Invalid input, try again\") # Handles any values outside of allowed values\n",
    "    except ValueError:\n",
    "        print(\"That is not an option. Please try again\") # This handles errors like incomplete input"
   ]
  },
  {
   "cell_type": "markdown",
   "id": "66c21260-60a0-4131-bb47-b2edcbf141ef",
   "metadata": {},
   "source": [
    "## References\n",
    "* OpenAI. (2025, April 7). ChatGPT conversation: Student Info Structuring Tips [Large language model]. ChatGPT. https://chatgpt.com/share/67f4a542-0110-8001-abfe-bc7125faae2d\n",
    "* monkut. (2014, November 19). Find min, max, and average of a list [Online forum post]. Stack Overflow. https://stackoverflow.com/questions/27009247/find-min-max-and-average-of-a-list\n",
    "* EmojiDB. (n.d.). Crystal Ball Emojis. EmojiDB. https://emojidb.org/crystal-ball-emojis?utm_source=user_search\n",
    "* Wilson, D. (n.d.). 03_Independent_Lab_Dean_Wilson.ipynb [Jupyter notebook]. GitHub. https://github.com/DeanWilson406/week3labs/blob/main/03_Independent_Lab_Dean_Wilson.ipynb # Homework from week 3 was similar to this week, so I used it as a guide to build the loop\n",
    "* 06_Instructor_Lab\n",
    "* 06_Tutorial"
   ]
  }
 ],
 "metadata": {
  "kernelspec": {
   "display_name": "Python 3 (ipykernel)",
   "language": "python",
   "name": "python3"
  },
  "language_info": {
   "codemirror_mode": {
    "name": "ipython",
    "version": 3
   },
   "file_extension": ".py",
   "mimetype": "text/x-python",
   "name": "python",
   "nbconvert_exporter": "python",
   "pygments_lexer": "ipython3",
   "version": "3.13.2"
  }
 },
 "nbformat": 4,
 "nbformat_minor": 5
}
